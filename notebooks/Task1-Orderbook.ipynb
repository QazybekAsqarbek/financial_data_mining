{
 "cells": [
  {
   "cell_type": "markdown",
   "metadata": {
    "toc": true
   },
   "source": [
    "<h1>Table of Contents<span class=\"tocSkip\"></span></h1>\n",
    "<div class=\"toc\"><ul class=\"toc-item\"><li><span><a href=\"#Observe-the-data\" data-toc-modified-id=\"Observe-the-data-1\"><span class=\"toc-item-num\">1&nbsp;&nbsp;</span>Observe the data</a></span><ul class=\"toc-item\"><li><span><a href=\"#Operation-types:\" data-toc-modified-id=\"Operation-types:-1.1\"><span class=\"toc-item-num\">1.1&nbsp;&nbsp;</span>Operation types:</a></span></li></ul></li><li><span><a href=\"#Make-daily-orderbook-for-6-instruments\" data-toc-modified-id=\"Make-daily-orderbook-for-6-instruments-2\"><span class=\"toc-item-num\">2&nbsp;&nbsp;</span>Make daily orderbook for 6 instruments</a></span></li><li><span><a href=\"#Check-whether-orderbooks-have-collisions\" data-toc-modified-id=\"Check-whether-orderbooks-have-collisions-3\"><span class=\"toc-item-num\">3&nbsp;&nbsp;</span>Check whether orderbooks have collisions</a></span></li><li><span><a href=\"#Result\" data-toc-modified-id=\"Result-4\"><span class=\"toc-item-num\">4&nbsp;&nbsp;</span>Result</a></span></li></ul></div>"
   ]
  },
  {
   "cell_type": "markdown",
   "metadata": {},
   "source": [
    "### Observe the data"
   ]
  },
  {
   "cell_type": "markdown",
   "metadata": {},
   "source": [
    "- NO-record number\n",
    "- SECCODE-instrument code\n",
    "- BUYSELL-buy/sell(B/S)\n",
    "- TIME-timestamp HHMMSSZZZXXX format\n",
    "- ORDERNO-order number; what exactly considered as order?\n",
    "- ACTION-type of order 0-revoke, 1-post, 2-match\n",
    "- PRICE-price of the order\n",
    "- VOLUME-the volume of the order\n",
    "- TRADENO-trade number\n",
    "- TRADEPRICE-price of the deal\n",
    "\n",
    "TODO: \n",
    "- define instrument\n",
    "- types of intruments:\n",
    "-    USD000000TOD\n",
    "-    USD000UTSTOM\n",
    "-    EUR_RUB_TOD\n",
    "-    EUR_RUB_TOM\n",
    "-    EURUSD000TOD\n",
    "-    EURUSD000TOM"
   ]
  },
  {
   "cell_type": "markdown",
   "metadata": {},
   "source": [
    "#### Operation types:\n",
    "- ADD:\n",
    "    - post the bid/ask\n",
    "- DELETE:\n",
    "    - revoke the bid/ask\n",
    "    - replace the bid/ask passively(delete then add)\n",
    "    - replace the bid/ask aggresively(delete)\n",
    "    - the bid/ask was satisfied\n",
    "- CHANGE:\n",
    "    - quantity of the bid/ask was changed by system(the bid/ask partially satisfied)"
   ]
  },
  {
   "cell_type": "markdown",
   "metadata": {},
   "source": [
    "### Make daily orderbook for 6 instruments\n",
    "- USD000000TOD\n",
    "- USD000UTSTOM\n",
    "- EUR_RUB_TOD\n",
    "- EUR_RUB_TOM\n",
    "- EURUSD000TOD\n",
    "- EURUSD000TOM"
   ]
  },
  {
   "cell_type": "markdown",
   "metadata": {},
   "source": [
    "investigate why tradeprice differs from price, both in Sell and in Buy offers\n",
    "```\n",
    "orderlog.dropna()[orderlog.dropna().TRADEPRICE == orderlog.dropna().PRICE].BUYSELL.value_counts()\n",
    "```\n",
    "regarding Buy offers, it is typically Price >= TradePrice\n",
    "regarding Sell offers, it is typically Price <= TradePrice"
   ]
  },
  {
   "cell_type": "markdown",
   "metadata": {},
   "source": [
    "if offer fully matched then volume is substracted from the orderbook, no REVOKE operation is needed\n",
    "\n",
    "if offer partially matched then at 23:50 there will be REVOKE opearation for what is left (ORDERNO == 2533407)\n",
    "\n",
    "1. S 75.01  1000\n",
    "2. S 75.02  650\n",
    "3. S 75.023 400\n",
    "4. B 74.99  500\n",
    "5. B 75.01  500\n",
    "\n",
    "=============\n",
    "\n",
    "1. S 75.023 400\n",
    "2. S 75.02  650\n",
    "3. S 75.01  500\n",
    "\n",
    "4. B 74.99  500\n",
    "\n",
    "```\n",
    "# When new bid comes to the orderbook\n",
    "volume = row.VOLUME\n",
    "\n",
    "while asks is not empty:\n",
    "    min_price = find minimal ask price which is less or equal to bid price\n",
    "    if asks[row.SECCODE][min_price] > volume:\n",
    "        asks[row.SECCODE][min_price] -= volume\n",
    "        # no need to store that bid ?? yes\n",
    "        # if this record will be deleted later then store it; it will not be deleted or stored\n",
    "        # however how to should I handle cases when the ask is deleted at 23:50\n",
    "        # so discover how it works; the partially completed asks are going to be revoked with volume equal to which is left\n",
    "    elif asks[row.SECCODE][min_price] == volume:\n",
    "        asks[row.SECCODE].pop([min_price])\n",
    "    else:\n",
    "        volume -= asks[row.SECCODE][min_price]\n",
    "        asks[row.SECCODE].pop([min_price])\n",
    "```"
   ]
  },
  {
   "cell_type": "code",
   "execution_count": null,
   "metadata": {},
   "outputs": [],
   "source": [
    "# TODO: change output file format to csv"
   ]
  },
  {
   "cell_type": "code",
   "execution_count": 2,
   "metadata": {},
   "outputs": [
    {
     "name": "stdout",
     "output_type": "stream",
     "text": [
      "The Cython extension is already loaded. To reload it, use:\n",
      "  %reload_ext Cython\n",
      "The line_profiler extension is already loaded. To reload it, use:\n",
      "  %reload_ext line_profiler\n"
     ]
    }
   ],
   "source": [
    "%load_ext Cython\n",
    "%load_ext line_profiler"
   ]
  },
  {
   "cell_type": "code",
   "execution_count": 3,
   "metadata": {},
   "outputs": [
    {
     "name": "stdout",
     "output_type": "stream",
     "text": [
      "CPU times: user 505 ms, sys: 246 ms, total: 750 ms\n",
      "Wall time: 1.63 s\n"
     ]
    }
   ],
   "source": [
    "%%time\n",
    "%%cython\n",
    "\n",
    "cimport cython\n",
    "cimport numpy as np\n",
    "import numpy as np\n",
    "\n",
    "\n",
    "\n",
    "cdef dict instruments_info = {'USD000000TOD': {'SCHEDULE': 174500000000},\n",
    "                              'USD000UTSTOM': {'SCHEDULE': 235000000000},\n",
    "                              'EUR_RUB__TOD': {'SCHEDULE': 150000000000},\n",
    "                              'EUR_RUB__TOM': {'SCHEDULE': 235000000000},\n",
    "                              'EURUSD000TOM': {'SCHEDULE': 235000000000},\n",
    "                              'EURUSD000TOD': {'SCHEDULE': 150000000000}}\n",
    "\n",
    "\n",
    "@cython.wraparound(False)\n",
    "@cython.boundscheck(False)\n",
    "cdef inline delete_offer(dict offers, str seccode, float price, int volume):\n",
    "    if price in offers[seccode]:\n",
    "        if offers[seccode][price] - volume <= 0:\n",
    "            offers[seccode].pop(price)\n",
    "        else:\n",
    "            offers[seccode][price] -= volume\n",
    "\n",
    "@cython.wraparound(False)                        \n",
    "@cython.boundscheck(False)\n",
    "cdef inline add_offer(dict offers, str seccode, float price, int volume):       \n",
    "    if price in offers[seccode]:\n",
    "        offers[seccode][price] += volume\n",
    "    else:\n",
    "        offers[seccode][price] = volume\n",
    "        \n",
    "        \n",
    "@cython.boundscheck(False)\n",
    "@cython.wraparound(False)        \n",
    "cpdef row_scanner(bids,\n",
    "                  asks,\n",
    "                  np.ndarray timestamp,\n",
    "                  np.ndarray [np.int_t, ndim=1] action,\n",
    "                  np.ndarray buysell,\n",
    "                  np.ndarray seccode,\n",
    "                  np.ndarray [np.float_t, ndim=1] price,\n",
    "                  np.ndarray [np.int_t, ndim=1] volume):   \n",
    "    \n",
    "    cdef int i\n",
    "    \n",
    "    for i in range(len(timestamp)):    \n",
    "        if seccode[i] in instruments_info.keys() and timestamp[i] < instruments_info[seccode[i]]['SCHEDULE']:\n",
    "            if action[i] == 1:\n",
    "                if buysell[i] == 'B':\n",
    "                    add_offer(bids, seccode[i], price[i], volume[i])\n",
    "                else:\n",
    "                    add_offer(asks, seccode[i], price[i], volume[i])\n",
    "            else:\n",
    "                if buysell[i] == 'B':\n",
    "                    delete_offer(bids, seccode[i], price[i], volume[i])\n",
    "                else:\n",
    "                    delete_offer(asks, seccode[i], price[i], volume[i])"
   ]
  },
  {
   "cell_type": "code",
   "execution_count": 4,
   "metadata": {},
   "outputs": [
    {
     "name": "stderr",
     "output_type": "stream",
     "text": [
      "/home/qazybek/.local/lib/python3.8/site-packages/numpy/lib/arraysetops.py:569: FutureWarning: elementwise comparison failed; returning scalar instead, but in the future will perform elementwise comparison\n",
      "  mask |= (ar1 == a)\n"
     ]
    },
    {
     "name": "stdout",
     "output_type": "stream",
     "text": [
      "CPU times: user 12.7 s, sys: 1.45 s, total: 14.1 s\n",
      "Wall time: 19.6 s\n"
     ]
    }
   ],
   "source": [
    "%%time\n",
    "\n",
    "import pandas as pd\n",
    "import shutil\n",
    "import os\n",
    "\n",
    "\n",
    "instruments_info = {'USD000000TOD': {'SCHEDULE': 174500000000},\n",
    "                  'USD000UTSTOM': {'SCHEDULE': 235000000000},\n",
    "                  'EUR_RUB__TOD': {'SCHEDULE': 150000000000},\n",
    "                  'EUR_RUB__TOM': {'SCHEDULE': 235000000000},\n",
    "                  'EURUSD000TOM': {'SCHEDULE': 235000000000},\n",
    "                  'EURUSD000TOD': {'SCHEDULE': 150000000000}}\n",
    "months = [\"03\"]  # , \"04\", \"05\"]\n",
    "\n",
    "\n",
    "for month in months:\n",
    "    foldername = f\"../results/orderbooks/2018-{month}\"\n",
    "    if os.path.exists(foldername):\n",
    "        shutil.rmtree(foldername)\n",
    "    os.mkdir(foldername)\n",
    "\n",
    "    folder_with_data = f\"../data/2018-{month}\"\n",
    "    files = os.listdir(folder_with_data)\n",
    "\n",
    "    for file in ['OrderLog20180301.txt']:  # files:\n",
    "        if file.find(\"OrderLog2018\") == 0:            \n",
    "            orderlog = pd.read_csv(\"../data/2018-03/OrderLog20180301.txt\", index_col='NO')\n",
    "\n",
    "#             orderlog = orderlog[orderlog.SECCODE.isin(instruments_info.keys())]\n",
    "#             for instrument, info in instruments_info.items():\n",
    "#                 orderlog.drop(orderlog[(orderlog.TIME >= info['SCHEDULE']) & (orderlog.SECCODE == instrument)].index, inplace=True)\n",
    "\n",
    "            bids = {}\n",
    "            asks = {}\n",
    "\n",
    "            for i in instruments_info.keys():\n",
    "                bids[i] = {}\n",
    "                asks[i] = {}\n",
    "\n",
    "            # bids, asks =     \n",
    "            row_scanner(bids,\n",
    "                        asks,\n",
    "                        orderlog.TIME.values,\n",
    "                        orderlog.ACTION.values,\n",
    "                        orderlog.BUYSELL.values,\n",
    "                        orderlog.SECCODE.values,\n",
    "                        orderlog.PRICE.values,\n",
    "                        orderlog.VOLUME.values)\n",
    "\n",
    "            day = file[-6:-4]\n",
    "            foldername = f\"../results/orderbooks/2018-{month}/{day}\"\n",
    "            if os.path.exists(foldername):\n",
    "                shutil.rmtree(foldername)\n",
    "            os.mkdir(foldername)\n",
    "\n",
    "            for instrument in instruments_info.keys():\n",
    "                filename = f\"{instrument}.txt\"\n",
    "\n",
    "                with open(f'{foldername}/{instrument}.txt', 'wt') as out:\n",
    "                    for key in sorted(asks[instrument], reverse=True):\n",
    "                        out.write(\"A\".ljust(5) + f\"{key}\".ljust(10) + f\"{asks[instrument][key]}\\n\")\n",
    "\n",
    "                    out.write(\"\\n=================================\\n\\n\")\n",
    "\n",
    "                    for key in sorted(bids[instrument], reverse=True):\n",
    "                        out.write(\"B\".ljust(5) + f\"{key}\".ljust(10) + f\"{bids[instrument][key]}\\n\")\n",
    "\n",
    "            del orderlog\n",
    "            del bids\n",
    "            del asks"
   ]
  },
  {
   "cell_type": "markdown",
   "metadata": {},
   "source": [
    "### Check whether orderbooks have collisions\n",
    "max(bid) > min(ask)"
   ]
  },
  {
   "cell_type": "markdown",
   "metadata": {},
   "source": [
    "### Result\n",
    "6 orderbooks for each 64 days and the number of books with collisions"
   ]
  }
 ],
 "metadata": {
  "kernelspec": {
   "display_name": "Python 3",
   "language": "python",
   "name": "python3"
  },
  "language_info": {
   "codemirror_mode": {
    "name": "ipython",
    "version": 3
   },
   "file_extension": ".py",
   "mimetype": "text/x-python",
   "name": "python",
   "nbconvert_exporter": "python",
   "pygments_lexer": "ipython3",
   "version": "3.8.5"
  },
  "toc": {
   "base_numbering": 1,
   "nav_menu": {},
   "number_sections": true,
   "sideBar": true,
   "skip_h1_title": false,
   "title_cell": "Table of Contents",
   "title_sidebar": "Contents",
   "toc_cell": true,
   "toc_position": {},
   "toc_section_display": true,
   "toc_window_display": false
  }
 },
 "nbformat": 4,
 "nbformat_minor": 4
}
